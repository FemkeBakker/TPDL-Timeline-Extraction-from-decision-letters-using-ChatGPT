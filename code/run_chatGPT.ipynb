{
 "cells": [
  {
   "cell_type": "code",
   "execution_count": 3,
   "metadata": {},
   "outputs": [],
   "source": [
    "import openai\n",
    "import os\n",
    "import pandas as pd\n",
    "import time\n",
    "from sklearn.metrics import *\n",
    "import nltk\n",
    "import warnings\n",
    "import numpy as np\n",
    "from itertools import chain\n",
    "\n",
    "\n",
    "from dotenv import load_dotenv, find_dotenv\n",
    "_ = load_dotenv(find_dotenv()) # read local .env file\n",
    "\n",
    "# store api in text file, extract here\n",
    "with open(\"api.txt\", 'r') as f:\n",
    "    api = f.read()\n",
    "\n",
    "# openai.api_key  = os.getenv(api)\n",
    "openai.api_key = api"
   ]
  },
  {
   "attachments": {},
   "cell_type": "markdown",
   "metadata": {},
   "source": [
    "## ChatGPT event phrase extraction & date classification"
   ]
  },
  {
   "cell_type": "code",
   "execution_count": 7,
   "metadata": {},
   "outputs": [],
   "source": [
    "# load ChatGPT run function for date classification & event phrase extraction\n",
    "from scripts.chatgpt_extraction import run\n",
    "\n",
    "# load training data\n",
    "gt_train = pd.read_csv(\"data/GT/GTtrain/date_event_combinations.csv\")\n",
    "gt_train['class'] = gt_train['label'].apply(lambda x: x.split(': ')[1] if ': ' in x else x)\n",
    "\n",
    "# load test data -> all dates except the decision dates\n",
    "df_test = pd.read_csv(\"data/results/chatgpt_extraction/input.csv\")\n",
    "run(df_test, 1, \"data/results/chatgpt_extraction/\", gt_train)\n"
   ]
  },
  {
   "attachments": {},
   "cell_type": "markdown",
   "metadata": {},
   "source": [
    "## ChatGPT event classification"
   ]
  },
  {
   "cell_type": "code",
   "execution_count": 8,
   "metadata": {},
   "outputs": [
    {
     "name": "stdout",
     "output_type": "stream",
     "text": [
      "Original length of dataframe:5\n",
      "New length after removing mistakes: 2\n"
     ]
    }
   ],
   "source": [
    "# first we need to select all dates with an event from all selected dates (except decision dates)\n",
    "GT_alldates = pd.read_csv(\"data/GT/GTtest/all_dates.csv\")\n",
    "\n",
    "from scripts.remove_mistakes import remove_no_event_dates\n",
    "test_event_dates = remove_no_event_dates(df_test, GT_alldates)\n",
    "test_event_dates.to_csv(\"data/results/chatgpt_classification/input.csv\", index = False)"
   ]
  },
  {
   "cell_type": "code",
   "execution_count": 9,
   "metadata": {},
   "outputs": [],
   "source": [
    "# load ChatGPT run function for event classification\n",
    "from scripts.chatgpt_classification import run\n",
    "\n",
    "# use same training data as chatgpt_extraction\n",
    "run(test_event_dates, 1, \"data/results/chatgpt_classification/\", gt_train)"
   ]
  }
 ],
 "metadata": {
  "kernelspec": {
   "display_name": "Python 3",
   "language": "python",
   "name": "python3"
  },
  "language_info": {
   "codemirror_mode": {
    "name": "ipython",
    "version": 3
   },
   "file_extension": ".py",
   "mimetype": "text/x-python",
   "name": "python",
   "nbconvert_exporter": "python",
   "pygments_lexer": "ipython3",
   "version": "3.8.5"
  },
  "orig_nbformat": 4
 },
 "nbformat": 4,
 "nbformat_minor": 2
}
