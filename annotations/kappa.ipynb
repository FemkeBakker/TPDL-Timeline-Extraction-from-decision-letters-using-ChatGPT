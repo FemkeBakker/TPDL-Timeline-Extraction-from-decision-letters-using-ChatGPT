{
 "cells": [
  {
   "cell_type": "code",
   "execution_count": 1,
   "metadata": {},
   "outputs": [],
   "source": [
    "import pandas as pd\n",
    "import sklearn.metrics\n",
    "\n",
    "# load entities dataframes and sort\n",
    "entities_f = pd.read_csv(\"GT_kappa/GT_femke/entities.csv\")\n",
    "entities_f = entities_f.loc[entities_f['doc_id'].isin([259,262,267,271,269])]\n",
    "entities_f = entities_f.sort_values(by=['doc_id', \"start\"])\n",
    "\n",
    "entities_d = pd.read_csv(\"GT_kappa/GT_dani/entities.csv\")\n",
    "entities_d = entities_d.loc[entities_d['doc_id'].isin([259,262,267,271,269])]\n",
    "entities_d = entities_d.sort_values(by=['doc_id', \"start\"])\n",
    "\n",
    "# get list of all selected dates\n",
    "dates_f = entities_f.loc[~entities_f['label'].isin(['event', 'title', 'ID'])]['text'].values\n",
    "dates_d = entities_d.loc[~entities_d['label'].isin(['event', 'title', 'ID'])]['text'].values\n",
    "\n",
    "cohen_dates = sklearn.metrics.cohen_kappa_score(dates_f, dates_d)\n",
    "\n"
   ]
  },
  {
   "cell_type": "code",
   "execution_count": 2,
   "metadata": {},
   "outputs": [],
   "source": [
    "# load date-event combinations and sort\n",
    "date_event_f = pd.read_csv(\"GT_kappa/GT_femke/date_event_combinations.csv\")\n",
    "date_event_f = date_event_f.loc[date_event_f['doc_id'].isin([259,262,267,271,269])]\n",
    "date_event_f = date_event_f.sort_values(by=['doc_id', \"start\"])\n",
    "\n",
    "date_event_d = pd.read_csv(\"GT_kappa/GT_dani/date_event_combinations.csv\")\n",
    "date_event_d = date_event_d.loc[date_event_d['doc_id'].isin([259,262,267,271,269])]\n",
    "date_event_d = date_event_d.sort_values(by=['doc_id', \"start\"])\n",
    "\n",
    "# list of events\n",
    "events_f = list(date_event_f['event'].values)\n",
    "events_d = list(date_event_d['event'].values)\n",
    "\n",
    "# list of classes\n",
    "class_f = list(date_event_f['label'].values)\n",
    "class_d = list(date_event_d['label'].values)\n",
    "\n",
    "cohen_events = sklearn.metrics.cohen_kappa_score(events_d, events_f)\n",
    "cohen_classes = sklearn.metrics.cohen_kappa_score(class_f, class_d)"
   ]
  },
  {
   "cell_type": "code",
   "execution_count": 3,
   "metadata": {},
   "outputs": [],
   "source": [
    "relations_f = pd.read_csv(\"GT_kappa/GT_femke/relations.csv\")\n",
    "relations_f = relations_f.loc[relations_f['doc_id'].isin([259,262,267,271,269])]\n",
    "relations_f = relations_f.sort_values(by=['doc_id'])\n",
    "\n",
    "relations_d = pd.read_csv(\"GT_kappa/GT_dani/relations.csv\")\n",
    "relations_d = relations_d.loc[relations_d['doc_id'].isin([259,262,267,271,269])]\n",
    "relations_d = relations_d.sort_values(by=['doc_id'])\n",
    "\n",
    "def get_relation_ids(relations):\n",
    "    ids = []\n",
    "    for relation in relations:\n",
    "        relation = relation.strip(\"[]\")\n",
    "        relation = relation.split(\",\")\n",
    "        relation = [int(r.strip(\" \")) for r in relation]\n",
    "        ids.append(relation)\n",
    "    return ids\n",
    "\n",
    "event_ids_d = get_relation_ids(date_event_d['event_ids'].values)\n",
    "event_ids_f = get_relation_ids(date_event_f['event_ids'].values)\n",
    "\n",
    "def get_relations(event_ids, df):\n",
    "    relations = []\n",
    "    for i in event_ids:\n",
    "        relation = ''\n",
    "        for id in i:\n",
    "            type = df.loc[df['to_id'] == id]['type'].values[0]\n",
    "            relation += type\n",
    "        relations.append(relation)\n",
    "    return relations    \n",
    "\n",
    "type_d = get_relations(event_ids_d, relations_d)\n",
    "type_f = get_relations(event_ids_f, relations_f)\n",
    "\n",
    "cohen_relations = sklearn.metrics.cohen_kappa_score(type_d, type_f)\n"
   ]
  },
  {
   "cell_type": "code",
   "execution_count": 4,
   "metadata": {},
   "outputs": [
    {
     "name": "stdout",
     "output_type": "stream",
     "text": [
      "Cohen's kappa for agreeing on labeling dates: 1.0\n",
      "Cohen's kappa for agreeing on labeling events correctly: 0.678516228748068\n",
      "Cohen's kappa for agreeing on labeling classes correctly: 0.908289241622575\n",
      "Cohen's kappa for agreeing on labeling relations correctly: 0.6231884057971014\n"
     ]
    }
   ],
   "source": [
    "print(\"Cohen's kappa for agreeing on labeling dates:\", cohen_dates)\n",
    "print(\"Cohen's kappa for agreeing on labeling events correctly:\", cohen_events)\n",
    "print(\"Cohen's kappa for agreeing on labeling classes correctly:\", cohen_classes)\n",
    "print(\"Cohen's kappa for agreeing on labeling relations correctly:\", cohen_relations)"
   ]
  }
 ],
 "metadata": {
  "kernelspec": {
   "display_name": "Python 3",
   "language": "python",
   "name": "python3"
  },
  "language_info": {
   "codemirror_mode": {
    "name": "ipython",
    "version": 3
   },
   "file_extension": ".py",
   "mimetype": "text/x-python",
   "name": "python",
   "nbconvert_exporter": "python",
   "pygments_lexer": "ipython3",
   "version": "3.8.5"
  },
  "orig_nbformat": 4
 },
 "nbformat": 4,
 "nbformat_minor": 2
}
