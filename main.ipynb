{
 "cells": [
  {
   "attachments": {},
   "cell_type": "markdown",
   "metadata": {},
   "source": [
    "# Timeline Extraction Pipeline\n",
    "Our task is to extract timelines from government decision letters using ChatGPT. \n",
    "In this notebook we will evaluate all steps of the algorithm. "
   ]
  },
  {
   "attachments": {},
   "cell_type": "markdown",
   "metadata": {},
   "source": [
    "### Date Extraction & Correction\n",
    "Here we will extract and correct the dates. In preprocessing the PDF files have already been converted to txt files. The first step is to split the txt files into sentences, detect the dates and discard sentences that do not have a date."
   ]
  },
  {
   "cell_type": "code",
   "execution_count": 1,
   "metadata": {},
   "outputs": [
    {
     "name": "stdout",
     "output_type": "stream",
     "text": [
      "Accuracy of the date correction algorithm: 0.0\n",
      "Total dates not correctly extracted: 266 out of 266\n",
      "Original length of dataframe:39\n",
      "New length after removing mistakes: 0\n"
     ]
    }
   ],
   "source": [
    "import pickle\n",
    "import pandas as pd\n",
    "from datetime import datetime\n",
    "import dateparser\n",
    "\n",
    "from scripts.date_correction import compile, accuracy_dates\n",
    "from scripts.remove_mistakes import remove_false_dates\n",
    " \n",
    "# load first results of test set\n",
    "with open('data/results/date_extraction/uncorrected_dates_test.pkl', 'rb') as fp:\n",
    "    test_uncorrected = pickle.load(fp)\n",
    "\n",
    "# get second results of test set\n",
    "test_corrected = compile(test_uncorrected)\n",
    "\n",
    "# load ground truth test set\n",
    "gt_test = pd.read_csv(\"data/GT/GTtest/all_dates.csv\")\n",
    "gt_test_date_event = gt_test.loc[gt_test['label'] != 'DATE+']\n",
    "\n",
    "# calculate accuracy on test set & return dataset with mistakes removed\n",
    "accuracy_test_dates, mistakes, test_dates = accuracy_dates(gt_test_date_event, test_corrected)\n",
    "\n",
    "print(f\"Accuracy of the date correction algorithm: {accuracy_test_dates}\")\n",
    "print(f\"Total dates not correctly extracted: {mistakes} out of {len(gt_test_date_event)}\")\n",
    "\n",
    "# remove dates with an event that have not been extracted correctly\n",
    "clean_test_dates = remove_false_dates(test_dates, gt_test)\n",
    "\n"
   ]
  },
  {
   "attachments": {},
   "cell_type": "markdown",
   "metadata": {},
   "source": []
  }
 ],
 "metadata": {
  "kernelspec": {
   "display_name": "Python 3",
   "language": "python",
   "name": "python3"
  },
  "language_info": {
   "codemirror_mode": {
    "name": "ipython",
    "version": 3
   },
   "file_extension": ".py",
   "mimetype": "text/x-python",
   "name": "python",
   "nbconvert_exporter": "python",
   "pygments_lexer": "ipython3",
   "version": "3.8.5"
  },
  "orig_nbformat": 4
 },
 "nbformat": 4,
 "nbformat_minor": 2
}
